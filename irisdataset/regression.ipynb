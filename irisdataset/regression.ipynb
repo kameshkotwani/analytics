{
 "metadata": {
  "language_info": {
   "codemirror_mode": {
    "name": "ipython",
    "version": 3
   },
   "file_extension": ".py",
   "mimetype": "text/x-python",
   "name": "python",
   "nbconvert_exporter": "python",
   "pygments_lexer": "ipython3",
   "version": "3.9.5"
  },
  "orig_nbformat": 4,
  "kernelspec": {
   "name": "python3",
   "display_name": "Python 3.9.5 64-bit"
  },
  "interpreter": {
   "hash": "446a9cdbc69176950b99a90bb92803377e30811ae9539d1fe7c58831fb94ab03"
  }
 },
 "nbformat": 4,
 "nbformat_minor": 2,
 "cells": [
  {
   "cell_type": "code",
   "execution_count": 2,
   "metadata": {},
   "outputs": [],
   "source": [
    "import pandas as pd\n",
    "from sklearn.linear_model import LogisticRegression\n",
    "from sklearn.model_selection import train_test_split\n",
    "from sklearn.preprocessing import LabelEncoder\n",
    "from sklearn.metrics import accuracy_score "
   ]
  },
  {
   "cell_type": "code",
   "execution_count": 26,
   "metadata": {},
   "outputs": [],
   "source": [
    "# Reading data\n",
    "df = pd.read_csv(\"irisdataset.csv\")"
   ]
  },
  {
   "cell_type": "code",
   "execution_count": 27,
   "metadata": {},
   "outputs": [],
   "source": [
    "encode = LabelEncoder()\n",
    "df.species  = encode.fit_transform(df.species)"
   ]
  },
  {
   "cell_type": "code",
   "execution_count": 29,
   "metadata": {},
   "outputs": [],
   "source": [
    "# train, test split\n",
    "train,test = train_test_split(df,test_size=0.2,random_state=0)"
   ]
  },
  {
   "cell_type": "code",
   "execution_count": 30,
   "metadata": {},
   "outputs": [
    {
     "output_type": "stream",
     "name": "stdout",
     "text": [
      "shape of training data: (120, 5)\nshape of testing data: (30, 5)\n"
     ]
    }
   ],
   "source": [
    "# shapes\n",
    "print(f\"shape of training data: {train.shape}\")\n",
    "print(f\"shape of testing data: {test.shape}\")"
   ]
  },
  {
   "cell_type": "code",
   "execution_count": 32,
   "metadata": {},
   "outputs": [],
   "source": [
    "# seperate the target and independent variable\n",
    "train_x = train.drop(columns='species',axis=1)\n",
    "train_y = train.species\n",
    "\n",
    "test_x = test.drop(columns='species',axis=1)\n",
    "test_y = test.species\n",
    "\n"
   ]
  },
  {
   "cell_type": "code",
   "execution_count": 35,
   "metadata": {},
   "outputs": [
    {
     "output_type": "execute_result",
     "data": {
      "text/plain": [
       "LogisticRegression(max_iter=200)"
      ]
     },
     "metadata": {},
     "execution_count": 35
    }
   ],
   "source": [
    "# creating the object of the model\n",
    "model = LogisticRegression(max_iter=200)\n",
    "model.fit(train_x,train_y)"
   ]
  },
  {
   "cell_type": "code",
   "execution_count": 37,
   "metadata": {},
   "outputs": [
    {
     "output_type": "stream",
     "name": "stdout",
     "text": [
      "['virginica' 'versicolor' 'setosa' 'virginica' 'setosa' 'virginica'\n 'setosa' 'versicolor' 'versicolor' 'versicolor' 'virginica' 'versicolor'\n 'versicolor' 'versicolor' 'versicolor' 'setosa' 'versicolor' 'versicolor'\n 'setosa' 'setosa' 'virginica' 'versicolor' 'setosa' 'setosa' 'virginica'\n 'setosa' 'setosa' 'versicolor' 'versicolor' 'setosa']\n"
     ]
    }
   ],
   "source": [
    "predict = model.predict(test_x)\n",
    "print(encode.inverse_transform(predict))"
   ]
  },
  {
   "cell_type": "code",
   "execution_count": 38,
   "metadata": {},
   "outputs": [
    {
     "output_type": "stream",
     "name": "stdout",
     "text": [
      "1.0\n"
     ]
    }
   ],
   "source": [
    "# calculating accuracy score\n",
    "print(accuracy_score(test_y,predict))"
   ]
  }
 ]
}